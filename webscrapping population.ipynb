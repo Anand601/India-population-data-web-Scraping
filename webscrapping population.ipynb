{
 "cells": [
  {
   "cell_type": "code",
   "execution_count": 3,
   "metadata": {},
   "outputs": [
    {
     "name": "stdout",
     "output_type": "stream",
     "text": [
      "Requirement already satisfied: bs4 in c:\\users\\anand\\anaconda3\\lib\\site-packages (0.0.1)\n",
      "Requirement already satisfied: beautifulsoup4 in c:\\users\\anand\\anaconda3\\lib\\site-packages (from bs4) (4.9.1)\n",
      "Requirement already satisfied: soupsieve>1.2 in c:\\users\\anand\\anaconda3\\lib\\site-packages (from beautifulsoup4->bs4) (2.0.1)\n",
      "Note: you may need to restart the kernel to use updated packages.\n"
     ]
    }
   ],
   "source": [
    "pip install bs4 # installing bs4 package\n"
   ]
  },
  {
   "cell_type": "code",
   "execution_count": 4,
   "metadata": {},
   "outputs": [],
   "source": [
    "import bs4\n",
    "from bs4 import BeautifulSoup"
   ]
  },
  {
   "cell_type": "code",
   "execution_count": 5,
   "metadata": {},
   "outputs": [],
   "source": [
    "import requests # importing requests library"
   ]
  },
  {
   "cell_type": "code",
   "execution_count": null,
   "metadata": {},
   "outputs": [],
   "source": []
  },
  {
   "cell_type": "code",
   "execution_count": 6,
   "metadata": {},
   "outputs": [],
   "source": [
    "import pandas as pd #importing pandas to create dataframes aand to save output in Excel file"
   ]
  },
  {
   "cell_type": "code",
   "execution_count": 7,
   "metadata": {},
   "outputs": [],
   "source": [
    "url=(\"https://www.worldometers.info/world-population/india-population/\")"
   ]
  },
  {
   "cell_type": "code",
   "execution_count": 8,
   "metadata": {},
   "outputs": [],
   "source": [
    "r=requests.get(url) # sending rewuest to the url\n",
    "htmlcontent=r.content # saving the content of url in htmlcontent varialble\n",
    "soup=BeautifulSoup(htmlcontent,'html.parser') #making of soup by pretifying the html conent"
   ]
  },
  {
   "cell_type": "code",
   "execution_count": 47,
   "metadata": {},
   "outputs": [],
   "source": [
    "population=soup.findAll(\"table\",attrs={'class':'table table-hover table-condensed table-list'}) # finding All the tables on thee url website page and storing it in variable called population"
   ]
  },
  {
   "cell_type": "code",
   "execution_count": 49,
   "metadata": {},
   "outputs": [
    {
     "data": {
      "text/plain": [
       "bs4.element.ResultSet"
      ]
     },
     "execution_count": 49,
     "metadata": {},
     "output_type": "execute_result"
    }
   ],
   "source": [
    "type(population) # checking the type of the variable to check it is in tag format or not\n"
   ]
  },
  {
   "cell_type": "code",
   "execution_count": 50,
   "metadata": {},
   "outputs": [
    {
     "data": {
      "text/plain": [
       "1"
      ]
     },
     "execution_count": 50,
     "metadata": {},
     "output_type": "execute_result"
    }
   ],
   "source": [
    "len(population) # as the variable was in list of the table we have to identify which table we want to scrape"
   ]
  },
  {
   "cell_type": "code",
   "execution_count": 51,
   "metadata": {},
   "outputs": [
    {
     "data": {
      "text/plain": [
       "[<table class=\"table table-hover table-condensed table-list\"> <thead> <tr style=\"background-color:#F8F8F8;\"> <th style=\"width:20px\">#</th> <th style=\"font-weight: 100; font-size:16px; text-align:left; padding-top:5px; padding-bottom:5px\">CITY NAME</th> <th style=\"font-weight: 100; font-size:16px; text-align:left; padding-top:5px; padding-bottom:5px\">POPULATION</th> </tr> </thead> <tbody> <tr> <td style=\"color:#999; text-align:center; vertical-align:middle\">1</td> <td style=\"font-weight: bold; font-size:17px; text-align:left; padding-left:10px; padding-top:5px; padding-bottom:5px\">Mumbai</td> <td style=\" font-size:17px; text-align:left; padding-left:10px; padding-top:5px; padding-bottom:5px\">12,691,836</td> </tr> <tr> <td style=\"color:#999; text-align:center; vertical-align:middle\">2</td> <td style=\"font-weight: bold; font-size:17px; text-align:left; padding-left:10px; padding-top:5px; padding-bottom:5px\">Delhi</td> <td style=\" font-size:17px; text-align:left; padding-left:10px; padding-top:5px; padding-bottom:5px\">10,927,986</td> </tr> <tr> <td style=\"color:#999; text-align:center; vertical-align:middle\">3</td> <td style=\"font-weight: bold; font-size:17px; text-align:left; padding-left:10px; padding-top:5px; padding-bottom:5px\">Bengaluru</td> <td style=\" font-size:17px; text-align:left; padding-left:10px; padding-top:5px; padding-bottom:5px\">5,104,047</td> </tr> <tr> <td style=\"color:#999; text-align:center; vertical-align:middle\">4</td> <td style=\"font-weight: bold; font-size:17px; text-align:left; padding-left:10px; padding-top:5px; padding-bottom:5px\">Kolkata</td> <td style=\" font-size:17px; text-align:left; padding-left:10px; padding-top:5px; padding-bottom:5px\">4,631,392</td> </tr> <tr> <td style=\"color:#999; text-align:center; vertical-align:middle\">5</td> <td style=\"font-weight: bold; font-size:17px; text-align:left; padding-left:10px; padding-top:5px; padding-bottom:5px\">Chennai</td> <td style=\" font-size:17px; text-align:left; padding-left:10px; padding-top:5px; padding-bottom:5px\">4,328,063</td> </tr> <tr> <td style=\"color:#999; text-align:center; vertical-align:middle\">6</td> <td style=\"font-weight: bold; font-size:17px; text-align:left; padding-left:10px; padding-top:5px; padding-bottom:5px\">Ahmedabad</td> <td style=\" font-size:17px; text-align:left; padding-left:10px; padding-top:5px; padding-bottom:5px\">3,719,710</td> </tr> <tr> <td style=\"color:#999; text-align:center; vertical-align:middle\">7</td> <td style=\"font-weight: bold; font-size:17px; text-align:left; padding-left:10px; padding-top:5px; padding-bottom:5px\">Hyderabad</td> <td style=\" font-size:17px; text-align:left; padding-left:10px; padding-top:5px; padding-bottom:5px\">3,597,816</td> </tr> <tr> <td style=\"color:#999; text-align:center; vertical-align:middle\">8</td> <td style=\"font-weight: bold; font-size:17px; text-align:left; padding-left:10px; padding-top:5px; padding-bottom:5px\">Pune</td> <td style=\" font-size:17px; text-align:left; padding-left:10px; padding-top:5px; padding-bottom:5px\">2,935,744</td> </tr> <tr> <td style=\"color:#999; text-align:center; vertical-align:middle\">9</td> <td style=\"font-weight: bold; font-size:17px; text-align:left; padding-left:10px; padding-top:5px; padding-bottom:5px\">Surat</td> <td style=\" font-size:17px; text-align:left; padding-left:10px; padding-top:5px; padding-bottom:5px\">2,894,504</td> </tr> <tr> <td style=\"color:#999; text-align:center; vertical-align:middle\">10</td> <td style=\"font-weight: bold; font-size:17px; text-align:left; padding-left:10px; padding-top:5px; padding-bottom:5px\">Kanpur</td> <td style=\" font-size:17px; text-align:left; padding-left:10px; padding-top:5px; padding-bottom:5px\">2,823,249</td> </tr> <tr> <td style=\"color:#999; text-align:center; vertical-align:middle\">11</td> <td style=\"font-weight: bold; font-size:17px; text-align:left; padding-left:10px; padding-top:5px; padding-bottom:5px\">Jaipur</td> <td style=\" font-size:17px; text-align:left; padding-left:10px; padding-top:5px; padding-bottom:5px\">2,711,758</td> </tr> <tr> <td style=\"color:#999; text-align:center; vertical-align:middle\">12</td> <td style=\"font-weight: bold; font-size:17px; text-align:left; padding-left:10px; padding-top:5px; padding-bottom:5px\">Navi Mumbai</td> <td style=\" font-size:17px; text-align:left; padding-left:10px; padding-top:5px; padding-bottom:5px\">2,600,000</td> </tr> <tr> <td style=\"color:#999; text-align:center; vertical-align:middle\">13</td> <td style=\"font-weight: bold; font-size:17px; text-align:left; padding-left:10px; padding-top:5px; padding-bottom:5px\">Lucknow</td> <td style=\" font-size:17px; text-align:left; padding-left:10px; padding-top:5px; padding-bottom:5px\">2,472,011</td> </tr> <tr> <td style=\"color:#999; text-align:center; vertical-align:middle\">14</td> <td style=\"font-weight: bold; font-size:17px; text-align:left; padding-left:10px; padding-top:5px; padding-bottom:5px\">Nagpur</td> <td style=\" font-size:17px; text-align:left; padding-left:10px; padding-top:5px; padding-bottom:5px\">2,228,018</td> </tr> <tr> <td style=\"color:#999; text-align:center; vertical-align:middle\">15</td> <td style=\"font-weight: bold; font-size:17px; text-align:left; padding-left:10px; padding-top:5px; padding-bottom:5px\">Indore</td> <td style=\" font-size:17px; text-align:left; padding-left:10px; padding-top:5px; padding-bottom:5px\">1,837,041</td> </tr> <tr> <td style=\"color:#999; text-align:center; vertical-align:middle\">16</td> <td style=\"font-weight: bold; font-size:17px; text-align:left; padding-left:10px; padding-top:5px; padding-bottom:5px\">Patna</td> <td style=\" font-size:17px; text-align:left; padding-left:10px; padding-top:5px; padding-bottom:5px\">1,599,920</td> </tr> <tr> <td style=\"color:#999; text-align:center; vertical-align:middle\">17</td> <td style=\"font-weight: bold; font-size:17px; text-align:left; padding-left:10px; padding-top:5px; padding-bottom:5px\">Bhopal</td> <td style=\" font-size:17px; text-align:left; padding-left:10px; padding-top:5px; padding-bottom:5px\">1,599,914</td> </tr> <tr> <td style=\"color:#999; text-align:center; vertical-align:middle\">18</td> <td style=\"font-weight: bold; font-size:17px; text-align:left; padding-left:10px; padding-top:5px; padding-bottom:5px\">Ludhiana</td> <td style=\" font-size:17px; text-align:left; padding-left:10px; padding-top:5px; padding-bottom:5px\">1,545,368</td> </tr> <tr> <td style=\"color:#999; text-align:center; vertical-align:middle\">19</td> <td style=\"font-weight: bold; font-size:17px; text-align:left; padding-left:10px; padding-top:5px; padding-bottom:5px\">Tirunelveli</td> <td style=\" font-size:17px; text-align:left; padding-left:10px; padding-top:5px; padding-bottom:5px\">1,435,844</td> </tr> <tr> <td style=\"color:#999; text-align:center; vertical-align:middle\">20</td> <td style=\"font-weight: bold; font-size:17px; text-align:left; padding-left:10px; padding-top:5px; padding-bottom:5px\">Agra</td> <td style=\" font-size:17px; text-align:left; padding-left:10px; padding-top:5px; padding-bottom:5px\">1,430,055</td> </tr> <tr> <td style=\"color:#999; text-align:center; vertical-align:middle\">21</td> <td style=\"font-weight: bold; font-size:17px; text-align:left; padding-left:10px; padding-top:5px; padding-bottom:5px\">Vadodara</td> <td style=\" font-size:17px; text-align:left; padding-left:10px; padding-top:5px; padding-bottom:5px\">1,409,476</td> </tr> <tr> <td style=\"color:#999; text-align:center; vertical-align:middle\">22</td> <td style=\"font-weight: bold; font-size:17px; text-align:left; padding-left:10px; padding-top:5px; padding-bottom:5px\">Gorakhpur</td> <td style=\" font-size:17px; text-align:left; padding-left:10px; padding-top:5px; padding-bottom:5px\">1,324,570</td> </tr> <tr> <td style=\"color:#999; text-align:center; vertical-align:middle\">23</td> <td style=\"font-weight: bold; font-size:17px; text-align:left; padding-left:10px; padding-top:5px; padding-bottom:5px\">Nashik</td> <td style=\" font-size:17px; text-align:left; padding-left:10px; padding-top:5px; padding-bottom:5px\">1,289,497</td> </tr> <tr> <td style=\"color:#999; text-align:center; vertical-align:middle\">24</td> <td style=\"font-weight: bold; font-size:17px; text-align:left; padding-left:10px; padding-top:5px; padding-bottom:5px\">Pimpri</td> <td style=\" font-size:17px; text-align:left; padding-left:10px; padding-top:5px; padding-bottom:5px\">1,284,606</td> </tr> <tr> <td style=\"color:#999; text-align:center; vertical-align:middle\">25</td> <td style=\"font-weight: bold; font-size:17px; text-align:left; padding-left:10px; padding-top:5px; padding-bottom:5px\">Kalyan</td> <td style=\" font-size:17px; text-align:left; padding-left:10px; padding-top:5px; padding-bottom:5px\">1,262,255</td> </tr> <tr> <td style=\"color:#999; text-align:center; vertical-align:middle\">26</td> <td style=\"font-weight: bold; font-size:17px; text-align:left; padding-left:10px; padding-top:5px; padding-bottom:5px\">Thane</td> <td style=\" font-size:17px; text-align:left; padding-left:10px; padding-top:5px; padding-bottom:5px\">1,261,517</td> </tr> <tr> <td style=\"color:#999; text-align:center; vertical-align:middle\">27</td> <td style=\"font-weight: bold; font-size:17px; text-align:left; padding-left:10px; padding-top:5px; padding-bottom:5px\">Meerut</td> <td style=\" font-size:17px; text-align:left; padding-left:10px; padding-top:5px; padding-bottom:5px\">1,223,184</td> </tr> <tr> <td style=\"color:#999; text-align:center; vertical-align:middle\">28</td> <td style=\"font-weight: bold; font-size:17px; text-align:left; padding-left:10px; padding-top:5px; padding-bottom:5px\">Nowrangapur</td> <td style=\" font-size:17px; text-align:left; padding-left:10px; padding-top:5px; padding-bottom:5px\">1,220,946</td> </tr> <tr> <td style=\"color:#999; text-align:center; vertical-align:middle\">29</td> <td style=\"font-weight: bold; font-size:17px; text-align:left; padding-left:10px; padding-top:5px; padding-bottom:5px\">Faridabad</td> <td style=\" font-size:17px; text-align:left; padding-left:10px; padding-top:5px; padding-bottom:5px\">1,220,229</td> </tr> <tr> <td style=\"color:#999; text-align:center; vertical-align:middle\">30</td> <td style=\"font-weight: bold; font-size:17px; text-align:left; padding-left:10px; padding-top:5px; padding-bottom:5px\">Ghaziabad</td> <td style=\" font-size:17px; text-align:left; padding-left:10px; padding-top:5px; padding-bottom:5px\">1,199,191</td> </tr> <tr> <td style=\"color:#999; text-align:center; vertical-align:middle\">31</td> <td style=\"font-weight: bold; font-size:17px; text-align:left; padding-left:10px; padding-top:5px; padding-bottom:5px\">Dombivli</td> <td style=\" font-size:17px; text-align:left; padding-left:10px; padding-top:5px; padding-bottom:5px\">1,193,000</td> </tr> <tr> <td style=\"color:#999; text-align:center; vertical-align:middle\">32</td> <td style=\"font-weight: bold; font-size:17px; text-align:left; padding-left:10px; padding-top:5px; padding-bottom:5px\">Rajkot</td> <td style=\" font-size:17px; text-align:left; padding-left:10px; padding-top:5px; padding-bottom:5px\">1,177,362</td> </tr> <tr> <td style=\"color:#999; text-align:center; vertical-align:middle\">33</td> <td style=\"font-weight: bold; font-size:17px; text-align:left; padding-left:10px; padding-top:5px; padding-bottom:5px\">Varanasi</td> <td style=\" font-size:17px; text-align:left; padding-left:10px; padding-top:5px; padding-bottom:5px\">1,164,404</td> </tr> <tr> <td style=\"color:#999; text-align:center; vertical-align:middle\">34</td> <td style=\"font-weight: bold; font-size:17px; text-align:left; padding-left:10px; padding-top:5px; padding-bottom:5px\">Amritsar</td> <td style=\" font-size:17px; text-align:left; padding-left:10px; padding-top:5px; padding-bottom:5px\">1,092,450</td> </tr> <tr> <td style=\"color:#999; text-align:center; vertical-align:middle\">35</td> <td style=\"font-weight: bold; font-size:17px; text-align:left; padding-left:10px; padding-top:5px; padding-bottom:5px\">Allahabad</td> <td style=\" font-size:17px; text-align:left; padding-left:10px; padding-top:5px; padding-bottom:5px\">1,073,438</td> </tr> <tr> <td style=\"color:#999; text-align:center; vertical-align:middle\">36</td> <td style=\"font-weight: bold; font-size:17px; text-align:left; padding-left:10px; padding-top:5px; padding-bottom:5px\">Visakhapatnam</td> <td style=\" font-size:17px; text-align:left; padding-left:10px; padding-top:5px; padding-bottom:5px\">1,063,178</td> </tr> <tr> <td style=\"color:#999; text-align:center; vertical-align:middle\">37</td> <td style=\"font-weight: bold; font-size:17px; text-align:left; padding-left:10px; padding-top:5px; padding-bottom:5px\">Teni</td> <td style=\" font-size:17px; text-align:left; padding-left:10px; padding-top:5px; padding-bottom:5px\">1,034,724</td> </tr> <tr> <td style=\"color:#999; text-align:center; vertical-align:middle\">38</td> <td style=\"font-weight: bold; font-size:17px; text-align:left; padding-left:10px; padding-top:5px; padding-bottom:5px\">Jabalpur</td> <td style=\" font-size:17px; text-align:left; padding-left:10px; padding-top:5px; padding-bottom:5px\">1,030,168</td> </tr> <tr> <td style=\"color:#999; text-align:center; vertical-align:middle\">39</td> <td style=\"font-weight: bold; font-size:17px; text-align:left; padding-left:10px; padding-top:5px; padding-bottom:5px\">Haora</td> <td style=\" font-size:17px; text-align:left; padding-left:10px; padding-top:5px; padding-bottom:5px\">1,027,672</td> </tr> <tr> <td style=\"color:#999; text-align:center; vertical-align:middle\">40</td> <td style=\"font-weight: bold; font-size:17px; text-align:left; padding-left:10px; padding-top:5px; padding-bottom:5px\">Aurangabad</td> <td style=\" font-size:17px; text-align:left; padding-left:10px; padding-top:5px; padding-bottom:5px\">1,016,441</td> </tr> <tr> <td style=\"color:#999; text-align:center; vertical-align:middle\">41</td> <td style=\"font-weight: bold; font-size:17px; text-align:left; padding-left:10px; padding-top:5px; padding-bottom:5px\">Shivaji Nagar</td> <td style=\" font-size:17px; text-align:left; padding-left:10px; padding-top:5px; padding-bottom:5px\">1,000,000</td> </tr> <tr> <td style=\"color:#999; text-align:center; vertical-align:middle\">42</td> <td style=\"font-weight: bold; font-size:17px; text-align:left; padding-left:10px; padding-top:5px; padding-bottom:5px\">Solapur</td> <td style=\" font-size:17px; text-align:left; padding-left:10px; padding-top:5px; padding-bottom:5px\">997,281</td> </tr> <tr> <td style=\"color:#999; text-align:center; vertical-align:middle\">43</td> <td style=\"font-weight: bold; font-size:17px; text-align:left; padding-left:10px; padding-top:5px; padding-bottom:5px\">Srinagar</td> <td style=\" font-size:17px; text-align:left; padding-left:10px; padding-top:5px; padding-bottom:5px\">975,857</td> </tr> <tr> <td style=\"color:#999; text-align:center; vertical-align:middle\">44</td> <td style=\"font-weight: bold; font-size:17px; text-align:left; padding-left:10px; padding-top:5px; padding-bottom:5px\">Chandigarh</td> <td style=\" font-size:17px; text-align:left; padding-left:10px; padding-top:5px; padding-bottom:5px\">960,787</td> </tr> <tr> <td style=\"color:#999; text-align:center; vertical-align:middle\">45</td> <td style=\"font-weight: bold; font-size:17px; text-align:left; padding-left:10px; padding-top:5px; padding-bottom:5px\">Coimbatore</td> <td style=\" font-size:17px; text-align:left; padding-left:10px; padding-top:5px; padding-bottom:5px\">959,823</td> </tr> <tr> <td style=\"color:#999; text-align:center; vertical-align:middle\">46</td> <td style=\"font-weight: bold; font-size:17px; text-align:left; padding-left:10px; padding-top:5px; padding-bottom:5px\">Jodhpur</td> <td style=\" font-size:17px; text-align:left; padding-left:10px; padding-top:5px; padding-bottom:5px\">921,476</td> </tr> <tr> <td style=\"color:#999; text-align:center; vertical-align:middle\">47</td> <td style=\"font-weight: bold; font-size:17px; text-align:left; padding-left:10px; padding-top:5px; padding-bottom:5px\">Madurai</td> <td style=\" font-size:17px; text-align:left; padding-left:10px; padding-top:5px; padding-bottom:5px\">909,908</td> </tr> <tr> <td style=\"color:#999; text-align:center; vertical-align:middle\">48</td> <td style=\"font-weight: bold; font-size:17px; text-align:left; padding-left:10px; padding-top:5px; padding-bottom:5px\">Guwahati</td> <td style=\" font-size:17px; text-align:left; padding-left:10px; padding-top:5px; padding-bottom:5px\">899,094</td> </tr> <tr> <td style=\"color:#999; text-align:center; vertical-align:middle\">49</td> <td style=\"font-weight: bold; font-size:17px; text-align:left; padding-left:10px; padding-top:5px; padding-bottom:5px\">Gwalior</td> <td style=\" font-size:17px; text-align:left; padding-left:10px; padding-top:5px; padding-bottom:5px\">882,458</td> </tr> <tr> <td style=\"color:#999; text-align:center; vertical-align:middle\">50</td> <td style=\"font-weight: bold; font-size:17px; text-align:left; padding-left:10px; padding-top:5px; padding-bottom:5px\">Vijayawada</td> <td style=\" font-size:17px; text-align:left; padding-left:10px; padding-top:5px; padding-bottom:5px\">874,587</td> </tr> <tr> <td style=\"color:#999; text-align:center; vertical-align:middle\">51</td> <td style=\"font-weight: bold; font-size:17px; text-align:left; padding-left:10px; padding-top:5px; padding-bottom:5px\">Mysore</td> <td style=\" font-size:17px; text-align:left; padding-left:10px; padding-top:5px; padding-bottom:5px\">868,313</td> </tr> <tr> <td style=\"color:#999; text-align:center; vertical-align:middle\">52</td> <td style=\"font-weight: bold; font-size:17px; text-align:left; padding-left:10px; padding-top:5px; padding-bottom:5px\">Ranchi</td> <td style=\" font-size:17px; text-align:left; padding-left:10px; padding-top:5px; padding-bottom:5px\">846,454</td> </tr> <tr> <td style=\"color:#999; text-align:center; vertical-align:middle\">53</td> <td style=\"font-weight: bold; font-size:17px; text-align:left; padding-left:10px; padding-top:5px; padding-bottom:5px\">Hubli</td> <td style=\" font-size:17px; text-align:left; padding-left:10px; padding-top:5px; padding-bottom:5px\">840,214</td> </tr> <tr> <td style=\"color:#999; text-align:center; vertical-align:middle\">54</td> <td style=\"font-weight: bold; font-size:17px; text-align:left; padding-left:10px; padding-top:5px; padding-bottom:5px\">Jalandhar</td> <td style=\" font-size:17px; text-align:left; padding-left:10px; padding-top:5px; padding-bottom:5px\">785,178</td> </tr> <tr> <td style=\"color:#999; text-align:center; vertical-align:middle\">55</td> <td style=\"font-weight: bold; font-size:17px; text-align:left; padding-left:10px; padding-top:5px; padding-bottom:5px\">Thiruvananthapuram</td> <td style=\" font-size:17px; text-align:left; padding-left:10px; padding-top:5px; padding-bottom:5px\">784,153</td> </tr> <tr> <td style=\"color:#999; text-align:center; vertical-align:middle\">56</td> <td style=\"font-weight: bold; font-size:17px; text-align:left; padding-left:10px; padding-top:5px; padding-bottom:5px\">Salem</td> <td style=\" font-size:17px; text-align:left; padding-left:10px; padding-top:5px; padding-bottom:5px\">778,396</td> </tr> <tr> <td style=\"color:#999; text-align:center; vertical-align:middle\">57</td> <td style=\"font-weight: bold; font-size:17px; text-align:left; padding-left:10px; padding-top:5px; padding-bottom:5px\">Tiruchirappalli</td> <td style=\" font-size:17px; text-align:left; padding-left:10px; padding-top:5px; padding-bottom:5px\">775,484</td> </tr> <tr> <td style=\"color:#999; text-align:center; vertical-align:middle\">58</td> <td style=\"font-weight: bold; font-size:17px; text-align:left; padding-left:10px; padding-top:5px; padding-bottom:5px\">Kota</td> <td style=\" font-size:17px; text-align:left; padding-left:10px; padding-top:5px; padding-bottom:5px\">763,088</td> </tr> <tr> <td style=\"color:#999; text-align:center; vertical-align:middle\">59</td> <td style=\"font-weight: bold; font-size:17px; text-align:left; padding-left:10px; padding-top:5px; padding-bottom:5px\">Bhubaneshwar</td> <td style=\" font-size:17px; text-align:left; padding-left:10px; padding-top:5px; padding-bottom:5px\">762,243</td> </tr> <tr> <td style=\"color:#999; text-align:center; vertical-align:middle\">60</td> <td style=\"font-weight: bold; font-size:17px; text-align:left; padding-left:10px; padding-top:5px; padding-bottom:5px\">Aligarh</td> <td style=\" font-size:17px; text-align:left; padding-left:10px; padding-top:5px; padding-bottom:5px\">753,207</td> </tr> <tr> <td style=\"color:#999; text-align:center; vertical-align:middle\">61</td> <td style=\"font-weight: bold; font-size:17px; text-align:left; padding-left:10px; padding-top:5px; padding-bottom:5px\">Bareilly</td> <td style=\" font-size:17px; text-align:left; padding-left:10px; padding-top:5px; padding-bottom:5px\">745,435</td> </tr> <tr> <td style=\"color:#999; text-align:center; vertical-align:middle\">62</td> <td style=\"font-weight: bold; font-size:17px; text-align:left; padding-left:10px; padding-top:5px; padding-bottom:5px\">Moradabad</td> <td style=\" font-size:17px; text-align:left; padding-left:10px; padding-top:5px; padding-bottom:5px\">721,139</td> </tr> <tr> <td style=\"color:#999; text-align:center; vertical-align:middle\">63</td> <td style=\"font-weight: bold; font-size:17px; text-align:left; padding-left:10px; padding-top:5px; padding-bottom:5px\">Bhiwandi</td> <td style=\" font-size:17px; text-align:left; padding-left:10px; padding-top:5px; padding-bottom:5px\">707,035</td> </tr> <tr> <td style=\"color:#999; text-align:center; vertical-align:middle\">64</td> <td style=\"font-weight: bold; font-size:17px; text-align:left; padding-left:10px; padding-top:5px; padding-bottom:5px\">Raipur</td> <td style=\" font-size:17px; text-align:left; padding-left:10px; padding-top:5px; padding-bottom:5px\">679,995</td> </tr> <tr> <td style=\"color:#999; text-align:center; vertical-align:middle\">65</td> <td style=\"font-weight: bold; font-size:17px; text-align:left; padding-left:10px; padding-top:5px; padding-bottom:5px\">Gorakhpur</td> <td style=\" font-size:17px; text-align:left; padding-left:10px; padding-top:5px; padding-bottom:5px\">674,246</td> </tr> <tr> <td style=\"color:#999; text-align:center; vertical-align:middle\">66</td> <td style=\"font-weight: bold; font-size:17px; text-align:left; padding-left:10px; padding-top:5px; padding-bottom:5px\">Bhilai</td> <td style=\" font-size:17px; text-align:left; padding-left:10px; padding-top:5px; padding-bottom:5px\">625,138</td> </tr> <tr> <td style=\"color:#999; text-align:center; vertical-align:middle\">67</td> <td style=\"font-weight: bold; font-size:17px; text-align:left; padding-left:10px; padding-top:5px; padding-bottom:5px\">Jamshedpur</td> <td style=\" font-size:17px; text-align:left; padding-left:10px; padding-top:5px; padding-bottom:5px\">616,338</td> </tr> <tr> <td style=\"color:#999; text-align:center; vertical-align:middle\">68</td> <td style=\"font-weight: bold; font-size:17px; text-align:left; padding-left:10px; padding-top:5px; padding-bottom:5px\">Borivli</td> <td style=\" font-size:17px; text-align:left; padding-left:10px; padding-top:5px; padding-bottom:5px\">609,617</td> </tr> <tr> <td style=\"color:#999; text-align:center; vertical-align:middle\">69</td> <td style=\"font-weight: bold; font-size:17px; text-align:left; padding-left:10px; padding-top:5px; padding-bottom:5px\">Cochin</td> <td style=\" font-size:17px; text-align:left; padding-left:10px; padding-top:5px; padding-bottom:5px\">604,696</td> </tr> <tr> <td style=\"color:#999; text-align:center; vertical-align:middle\">70</td> <td style=\"font-weight: bold; font-size:17px; text-align:left; padding-left:10px; padding-top:5px; padding-bottom:5px\">Amravati</td> <td style=\" font-size:17px; text-align:left; padding-left:10px; padding-top:5px; padding-bottom:5px\">603,837</td> </tr> </tbody></table>]"
      ]
     },
     "execution_count": 51,
     "metadata": {},
     "output_type": "execute_result"
    }
   ],
   "source": [
    "population # printing the list of the table (there is only one table in list)"
   ]
  },
  {
   "cell_type": "code",
   "execution_count": 52,
   "metadata": {},
   "outputs": [],
   "source": [
    "population=population[0] # selecting the table which we wanted toscrape from the list of the tables"
   ]
  },
  {
   "cell_type": "code",
   "execution_count": 58,
   "metadata": {},
   "outputs": [
    {
     "data": {
      "text/plain": [
       "'  1 Mumbai 12,691,836   2 Delhi 10,927,986   3 Bengaluru 5,104,047   4 Kolkata 4,631,392   5 Chennai 4,328,063   6 Ahmedabad 3,719,710   7 Hyderabad 3,597,816   8 Pune 2,935,744   9 Surat 2,894,504   10 Kanpur 2,823,249   11 Jaipur 2,711,758   12 Navi Mumbai 2,600,000   13 Lucknow 2,472,011   14 Nagpur 2,228,018   15 Indore 1,837,041   16 Patna 1,599,920   17 Bhopal 1,599,914   18 Ludhiana 1,545,368   19 Tirunelveli 1,435,844   20 Agra 1,430,055   21 Vadodara 1,409,476   22 Gorakhpur 1,324,570   23 Nashik 1,289,497   24 Pimpri 1,284,606   25 Kalyan 1,262,255   26 Thane 1,261,517   27 Meerut 1,223,184   28 Nowrangapur 1,220,946   29 Faridabad 1,220,229   30 Ghaziabad 1,199,191   31 Dombivli 1,193,000   32 Rajkot 1,177,362   33 Varanasi 1,164,404   34 Amritsar 1,092,450   35 Allahabad 1,073,438   36 Visakhapatnam 1,063,178   37 Teni 1,034,724   38 Jabalpur 1,030,168   39 Haora 1,027,672   40 Aurangabad 1,016,441   41 Shivaji Nagar 1,000,000   42 Solapur 997,281   43 Srinagar 975,857   44 Chandigarh 960,787   45 Coimbatore 959,823   46 Jodhpur 921,476   47 Madurai 909,908   48 Guwahati 899,094   49 Gwalior 882,458   50 Vijayawada 874,587   51 Mysore 868,313   52 Ranchi 846,454   53 Hubli 840,214   54 Jalandhar 785,178   55 Thiruvananthapuram 784,153   56 Salem 778,396   57 Tiruchirappalli 775,484   58 Kota 763,088   59 Bhubaneshwar 762,243   60 Aligarh 753,207   61 Bareilly 745,435   62 Moradabad 721,139   63 Bhiwandi 707,035   64 Raipur 679,995   65 Gorakhpur 674,246   66 Bhilai 625,138   67 Jamshedpur 616,338   68 Borivli 609,617   69 Cochin 604,696   70 Amravati 603,837  '"
      ]
     },
     "execution_count": 58,
     "metadata": {},
     "output_type": "execute_result"
    }
   ],
   "source": [
    "population.tbody.get_text() #selecting the text of the body tag of the table"
   ]
  },
  {
   "cell_type": "code",
   "execution_count": 59,
   "metadata": {},
   "outputs": [
    {
     "data": {
      "text/plain": [
       "bs4.element.Tag"
      ]
     },
     "execution_count": 59,
     "metadata": {},
     "output_type": "execute_result"
    }
   ],
   "source": [
    "type(population)"
   ]
  },
  {
   "cell_type": "code",
   "execution_count": 60,
   "metadata": {},
   "outputs": [],
   "source": [
    "anda=population.find_all(\"tr\") # selecting all the rows  of thebody and saving it in variable"
   ]
  },
  {
   "cell_type": "code",
   "execution_count": 61,
   "metadata": {},
   "outputs": [
    {
     "data": {
      "text/plain": [
       "[<tr style=\"background-color:#F8F8F8;\"> <th style=\"width:20px\">#</th> <th style=\"font-weight: 100; font-size:16px; text-align:left; padding-top:5px; padding-bottom:5px\">CITY NAME</th> <th style=\"font-weight: 100; font-size:16px; text-align:left; padding-top:5px; padding-bottom:5px\">POPULATION</th> </tr>,\n",
       " <tr> <td style=\"color:#999; text-align:center; vertical-align:middle\">1</td> <td style=\"font-weight: bold; font-size:17px; text-align:left; padding-left:10px; padding-top:5px; padding-bottom:5px\">Mumbai</td> <td style=\" font-size:17px; text-align:left; padding-left:10px; padding-top:5px; padding-bottom:5px\">12,691,836</td> </tr>,\n",
       " <tr> <td style=\"color:#999; text-align:center; vertical-align:middle\">2</td> <td style=\"font-weight: bold; font-size:17px; text-align:left; padding-left:10px; padding-top:5px; padding-bottom:5px\">Delhi</td> <td style=\" font-size:17px; text-align:left; padding-left:10px; padding-top:5px; padding-bottom:5px\">10,927,986</td> </tr>,\n",
       " <tr> <td style=\"color:#999; text-align:center; vertical-align:middle\">3</td> <td style=\"font-weight: bold; font-size:17px; text-align:left; padding-left:10px; padding-top:5px; padding-bottom:5px\">Bengaluru</td> <td style=\" font-size:17px; text-align:left; padding-left:10px; padding-top:5px; padding-bottom:5px\">5,104,047</td> </tr>,\n",
       " <tr> <td style=\"color:#999; text-align:center; vertical-align:middle\">4</td> <td style=\"font-weight: bold; font-size:17px; text-align:left; padding-left:10px; padding-top:5px; padding-bottom:5px\">Kolkata</td> <td style=\" font-size:17px; text-align:left; padding-left:10px; padding-top:5px; padding-bottom:5px\">4,631,392</td> </tr>,\n",
       " <tr> <td style=\"color:#999; text-align:center; vertical-align:middle\">5</td> <td style=\"font-weight: bold; font-size:17px; text-align:left; padding-left:10px; padding-top:5px; padding-bottom:5px\">Chennai</td> <td style=\" font-size:17px; text-align:left; padding-left:10px; padding-top:5px; padding-bottom:5px\">4,328,063</td> </tr>,\n",
       " <tr> <td style=\"color:#999; text-align:center; vertical-align:middle\">6</td> <td style=\"font-weight: bold; font-size:17px; text-align:left; padding-left:10px; padding-top:5px; padding-bottom:5px\">Ahmedabad</td> <td style=\" font-size:17px; text-align:left; padding-left:10px; padding-top:5px; padding-bottom:5px\">3,719,710</td> </tr>,\n",
       " <tr> <td style=\"color:#999; text-align:center; vertical-align:middle\">7</td> <td style=\"font-weight: bold; font-size:17px; text-align:left; padding-left:10px; padding-top:5px; padding-bottom:5px\">Hyderabad</td> <td style=\" font-size:17px; text-align:left; padding-left:10px; padding-top:5px; padding-bottom:5px\">3,597,816</td> </tr>,\n",
       " <tr> <td style=\"color:#999; text-align:center; vertical-align:middle\">8</td> <td style=\"font-weight: bold; font-size:17px; text-align:left; padding-left:10px; padding-top:5px; padding-bottom:5px\">Pune</td> <td style=\" font-size:17px; text-align:left; padding-left:10px; padding-top:5px; padding-bottom:5px\">2,935,744</td> </tr>,\n",
       " <tr> <td style=\"color:#999; text-align:center; vertical-align:middle\">9</td> <td style=\"font-weight: bold; font-size:17px; text-align:left; padding-left:10px; padding-top:5px; padding-bottom:5px\">Surat</td> <td style=\" font-size:17px; text-align:left; padding-left:10px; padding-top:5px; padding-bottom:5px\">2,894,504</td> </tr>,\n",
       " <tr> <td style=\"color:#999; text-align:center; vertical-align:middle\">10</td> <td style=\"font-weight: bold; font-size:17px; text-align:left; padding-left:10px; padding-top:5px; padding-bottom:5px\">Kanpur</td> <td style=\" font-size:17px; text-align:left; padding-left:10px; padding-top:5px; padding-bottom:5px\">2,823,249</td> </tr>,\n",
       " <tr> <td style=\"color:#999; text-align:center; vertical-align:middle\">11</td> <td style=\"font-weight: bold; font-size:17px; text-align:left; padding-left:10px; padding-top:5px; padding-bottom:5px\">Jaipur</td> <td style=\" font-size:17px; text-align:left; padding-left:10px; padding-top:5px; padding-bottom:5px\">2,711,758</td> </tr>,\n",
       " <tr> <td style=\"color:#999; text-align:center; vertical-align:middle\">12</td> <td style=\"font-weight: bold; font-size:17px; text-align:left; padding-left:10px; padding-top:5px; padding-bottom:5px\">Navi Mumbai</td> <td style=\" font-size:17px; text-align:left; padding-left:10px; padding-top:5px; padding-bottom:5px\">2,600,000</td> </tr>,\n",
       " <tr> <td style=\"color:#999; text-align:center; vertical-align:middle\">13</td> <td style=\"font-weight: bold; font-size:17px; text-align:left; padding-left:10px; padding-top:5px; padding-bottom:5px\">Lucknow</td> <td style=\" font-size:17px; text-align:left; padding-left:10px; padding-top:5px; padding-bottom:5px\">2,472,011</td> </tr>,\n",
       " <tr> <td style=\"color:#999; text-align:center; vertical-align:middle\">14</td> <td style=\"font-weight: bold; font-size:17px; text-align:left; padding-left:10px; padding-top:5px; padding-bottom:5px\">Nagpur</td> <td style=\" font-size:17px; text-align:left; padding-left:10px; padding-top:5px; padding-bottom:5px\">2,228,018</td> </tr>,\n",
       " <tr> <td style=\"color:#999; text-align:center; vertical-align:middle\">15</td> <td style=\"font-weight: bold; font-size:17px; text-align:left; padding-left:10px; padding-top:5px; padding-bottom:5px\">Indore</td> <td style=\" font-size:17px; text-align:left; padding-left:10px; padding-top:5px; padding-bottom:5px\">1,837,041</td> </tr>,\n",
       " <tr> <td style=\"color:#999; text-align:center; vertical-align:middle\">16</td> <td style=\"font-weight: bold; font-size:17px; text-align:left; padding-left:10px; padding-top:5px; padding-bottom:5px\">Patna</td> <td style=\" font-size:17px; text-align:left; padding-left:10px; padding-top:5px; padding-bottom:5px\">1,599,920</td> </tr>,\n",
       " <tr> <td style=\"color:#999; text-align:center; vertical-align:middle\">17</td> <td style=\"font-weight: bold; font-size:17px; text-align:left; padding-left:10px; padding-top:5px; padding-bottom:5px\">Bhopal</td> <td style=\" font-size:17px; text-align:left; padding-left:10px; padding-top:5px; padding-bottom:5px\">1,599,914</td> </tr>,\n",
       " <tr> <td style=\"color:#999; text-align:center; vertical-align:middle\">18</td> <td style=\"font-weight: bold; font-size:17px; text-align:left; padding-left:10px; padding-top:5px; padding-bottom:5px\">Ludhiana</td> <td style=\" font-size:17px; text-align:left; padding-left:10px; padding-top:5px; padding-bottom:5px\">1,545,368</td> </tr>,\n",
       " <tr> <td style=\"color:#999; text-align:center; vertical-align:middle\">19</td> <td style=\"font-weight: bold; font-size:17px; text-align:left; padding-left:10px; padding-top:5px; padding-bottom:5px\">Tirunelveli</td> <td style=\" font-size:17px; text-align:left; padding-left:10px; padding-top:5px; padding-bottom:5px\">1,435,844</td> </tr>,\n",
       " <tr> <td style=\"color:#999; text-align:center; vertical-align:middle\">20</td> <td style=\"font-weight: bold; font-size:17px; text-align:left; padding-left:10px; padding-top:5px; padding-bottom:5px\">Agra</td> <td style=\" font-size:17px; text-align:left; padding-left:10px; padding-top:5px; padding-bottom:5px\">1,430,055</td> </tr>,\n",
       " <tr> <td style=\"color:#999; text-align:center; vertical-align:middle\">21</td> <td style=\"font-weight: bold; font-size:17px; text-align:left; padding-left:10px; padding-top:5px; padding-bottom:5px\">Vadodara</td> <td style=\" font-size:17px; text-align:left; padding-left:10px; padding-top:5px; padding-bottom:5px\">1,409,476</td> </tr>,\n",
       " <tr> <td style=\"color:#999; text-align:center; vertical-align:middle\">22</td> <td style=\"font-weight: bold; font-size:17px; text-align:left; padding-left:10px; padding-top:5px; padding-bottom:5px\">Gorakhpur</td> <td style=\" font-size:17px; text-align:left; padding-left:10px; padding-top:5px; padding-bottom:5px\">1,324,570</td> </tr>,\n",
       " <tr> <td style=\"color:#999; text-align:center; vertical-align:middle\">23</td> <td style=\"font-weight: bold; font-size:17px; text-align:left; padding-left:10px; padding-top:5px; padding-bottom:5px\">Nashik</td> <td style=\" font-size:17px; text-align:left; padding-left:10px; padding-top:5px; padding-bottom:5px\">1,289,497</td> </tr>,\n",
       " <tr> <td style=\"color:#999; text-align:center; vertical-align:middle\">24</td> <td style=\"font-weight: bold; font-size:17px; text-align:left; padding-left:10px; padding-top:5px; padding-bottom:5px\">Pimpri</td> <td style=\" font-size:17px; text-align:left; padding-left:10px; padding-top:5px; padding-bottom:5px\">1,284,606</td> </tr>,\n",
       " <tr> <td style=\"color:#999; text-align:center; vertical-align:middle\">25</td> <td style=\"font-weight: bold; font-size:17px; text-align:left; padding-left:10px; padding-top:5px; padding-bottom:5px\">Kalyan</td> <td style=\" font-size:17px; text-align:left; padding-left:10px; padding-top:5px; padding-bottom:5px\">1,262,255</td> </tr>,\n",
       " <tr> <td style=\"color:#999; text-align:center; vertical-align:middle\">26</td> <td style=\"font-weight: bold; font-size:17px; text-align:left; padding-left:10px; padding-top:5px; padding-bottom:5px\">Thane</td> <td style=\" font-size:17px; text-align:left; padding-left:10px; padding-top:5px; padding-bottom:5px\">1,261,517</td> </tr>,\n",
       " <tr> <td style=\"color:#999; text-align:center; vertical-align:middle\">27</td> <td style=\"font-weight: bold; font-size:17px; text-align:left; padding-left:10px; padding-top:5px; padding-bottom:5px\">Meerut</td> <td style=\" font-size:17px; text-align:left; padding-left:10px; padding-top:5px; padding-bottom:5px\">1,223,184</td> </tr>,\n",
       " <tr> <td style=\"color:#999; text-align:center; vertical-align:middle\">28</td> <td style=\"font-weight: bold; font-size:17px; text-align:left; padding-left:10px; padding-top:5px; padding-bottom:5px\">Nowrangapur</td> <td style=\" font-size:17px; text-align:left; padding-left:10px; padding-top:5px; padding-bottom:5px\">1,220,946</td> </tr>,\n",
       " <tr> <td style=\"color:#999; text-align:center; vertical-align:middle\">29</td> <td style=\"font-weight: bold; font-size:17px; text-align:left; padding-left:10px; padding-top:5px; padding-bottom:5px\">Faridabad</td> <td style=\" font-size:17px; text-align:left; padding-left:10px; padding-top:5px; padding-bottom:5px\">1,220,229</td> </tr>,\n",
       " <tr> <td style=\"color:#999; text-align:center; vertical-align:middle\">30</td> <td style=\"font-weight: bold; font-size:17px; text-align:left; padding-left:10px; padding-top:5px; padding-bottom:5px\">Ghaziabad</td> <td style=\" font-size:17px; text-align:left; padding-left:10px; padding-top:5px; padding-bottom:5px\">1,199,191</td> </tr>,\n",
       " <tr> <td style=\"color:#999; text-align:center; vertical-align:middle\">31</td> <td style=\"font-weight: bold; font-size:17px; text-align:left; padding-left:10px; padding-top:5px; padding-bottom:5px\">Dombivli</td> <td style=\" font-size:17px; text-align:left; padding-left:10px; padding-top:5px; padding-bottom:5px\">1,193,000</td> </tr>,\n",
       " <tr> <td style=\"color:#999; text-align:center; vertical-align:middle\">32</td> <td style=\"font-weight: bold; font-size:17px; text-align:left; padding-left:10px; padding-top:5px; padding-bottom:5px\">Rajkot</td> <td style=\" font-size:17px; text-align:left; padding-left:10px; padding-top:5px; padding-bottom:5px\">1,177,362</td> </tr>,\n",
       " <tr> <td style=\"color:#999; text-align:center; vertical-align:middle\">33</td> <td style=\"font-weight: bold; font-size:17px; text-align:left; padding-left:10px; padding-top:5px; padding-bottom:5px\">Varanasi</td> <td style=\" font-size:17px; text-align:left; padding-left:10px; padding-top:5px; padding-bottom:5px\">1,164,404</td> </tr>,\n",
       " <tr> <td style=\"color:#999; text-align:center; vertical-align:middle\">34</td> <td style=\"font-weight: bold; font-size:17px; text-align:left; padding-left:10px; padding-top:5px; padding-bottom:5px\">Amritsar</td> <td style=\" font-size:17px; text-align:left; padding-left:10px; padding-top:5px; padding-bottom:5px\">1,092,450</td> </tr>,\n",
       " <tr> <td style=\"color:#999; text-align:center; vertical-align:middle\">35</td> <td style=\"font-weight: bold; font-size:17px; text-align:left; padding-left:10px; padding-top:5px; padding-bottom:5px\">Allahabad</td> <td style=\" font-size:17px; text-align:left; padding-left:10px; padding-top:5px; padding-bottom:5px\">1,073,438</td> </tr>,\n",
       " <tr> <td style=\"color:#999; text-align:center; vertical-align:middle\">36</td> <td style=\"font-weight: bold; font-size:17px; text-align:left; padding-left:10px; padding-top:5px; padding-bottom:5px\">Visakhapatnam</td> <td style=\" font-size:17px; text-align:left; padding-left:10px; padding-top:5px; padding-bottom:5px\">1,063,178</td> </tr>,\n",
       " <tr> <td style=\"color:#999; text-align:center; vertical-align:middle\">37</td> <td style=\"font-weight: bold; font-size:17px; text-align:left; padding-left:10px; padding-top:5px; padding-bottom:5px\">Teni</td> <td style=\" font-size:17px; text-align:left; padding-left:10px; padding-top:5px; padding-bottom:5px\">1,034,724</td> </tr>,\n",
       " <tr> <td style=\"color:#999; text-align:center; vertical-align:middle\">38</td> <td style=\"font-weight: bold; font-size:17px; text-align:left; padding-left:10px; padding-top:5px; padding-bottom:5px\">Jabalpur</td> <td style=\" font-size:17px; text-align:left; padding-left:10px; padding-top:5px; padding-bottom:5px\">1,030,168</td> </tr>,\n",
       " <tr> <td style=\"color:#999; text-align:center; vertical-align:middle\">39</td> <td style=\"font-weight: bold; font-size:17px; text-align:left; padding-left:10px; padding-top:5px; padding-bottom:5px\">Haora</td> <td style=\" font-size:17px; text-align:left; padding-left:10px; padding-top:5px; padding-bottom:5px\">1,027,672</td> </tr>,\n",
       " <tr> <td style=\"color:#999; text-align:center; vertical-align:middle\">40</td> <td style=\"font-weight: bold; font-size:17px; text-align:left; padding-left:10px; padding-top:5px; padding-bottom:5px\">Aurangabad</td> <td style=\" font-size:17px; text-align:left; padding-left:10px; padding-top:5px; padding-bottom:5px\">1,016,441</td> </tr>,\n",
       " <tr> <td style=\"color:#999; text-align:center; vertical-align:middle\">41</td> <td style=\"font-weight: bold; font-size:17px; text-align:left; padding-left:10px; padding-top:5px; padding-bottom:5px\">Shivaji Nagar</td> <td style=\" font-size:17px; text-align:left; padding-left:10px; padding-top:5px; padding-bottom:5px\">1,000,000</td> </tr>,\n",
       " <tr> <td style=\"color:#999; text-align:center; vertical-align:middle\">42</td> <td style=\"font-weight: bold; font-size:17px; text-align:left; padding-left:10px; padding-top:5px; padding-bottom:5px\">Solapur</td> <td style=\" font-size:17px; text-align:left; padding-left:10px; padding-top:5px; padding-bottom:5px\">997,281</td> </tr>,\n",
       " <tr> <td style=\"color:#999; text-align:center; vertical-align:middle\">43</td> <td style=\"font-weight: bold; font-size:17px; text-align:left; padding-left:10px; padding-top:5px; padding-bottom:5px\">Srinagar</td> <td style=\" font-size:17px; text-align:left; padding-left:10px; padding-top:5px; padding-bottom:5px\">975,857</td> </tr>,\n",
       " <tr> <td style=\"color:#999; text-align:center; vertical-align:middle\">44</td> <td style=\"font-weight: bold; font-size:17px; text-align:left; padding-left:10px; padding-top:5px; padding-bottom:5px\">Chandigarh</td> <td style=\" font-size:17px; text-align:left; padding-left:10px; padding-top:5px; padding-bottom:5px\">960,787</td> </tr>,\n",
       " <tr> <td style=\"color:#999; text-align:center; vertical-align:middle\">45</td> <td style=\"font-weight: bold; font-size:17px; text-align:left; padding-left:10px; padding-top:5px; padding-bottom:5px\">Coimbatore</td> <td style=\" font-size:17px; text-align:left; padding-left:10px; padding-top:5px; padding-bottom:5px\">959,823</td> </tr>,\n",
       " <tr> <td style=\"color:#999; text-align:center; vertical-align:middle\">46</td> <td style=\"font-weight: bold; font-size:17px; text-align:left; padding-left:10px; padding-top:5px; padding-bottom:5px\">Jodhpur</td> <td style=\" font-size:17px; text-align:left; padding-left:10px; padding-top:5px; padding-bottom:5px\">921,476</td> </tr>,\n",
       " <tr> <td style=\"color:#999; text-align:center; vertical-align:middle\">47</td> <td style=\"font-weight: bold; font-size:17px; text-align:left; padding-left:10px; padding-top:5px; padding-bottom:5px\">Madurai</td> <td style=\" font-size:17px; text-align:left; padding-left:10px; padding-top:5px; padding-bottom:5px\">909,908</td> </tr>,\n",
       " <tr> <td style=\"color:#999; text-align:center; vertical-align:middle\">48</td> <td style=\"font-weight: bold; font-size:17px; text-align:left; padding-left:10px; padding-top:5px; padding-bottom:5px\">Guwahati</td> <td style=\" font-size:17px; text-align:left; padding-left:10px; padding-top:5px; padding-bottom:5px\">899,094</td> </tr>,\n",
       " <tr> <td style=\"color:#999; text-align:center; vertical-align:middle\">49</td> <td style=\"font-weight: bold; font-size:17px; text-align:left; padding-left:10px; padding-top:5px; padding-bottom:5px\">Gwalior</td> <td style=\" font-size:17px; text-align:left; padding-left:10px; padding-top:5px; padding-bottom:5px\">882,458</td> </tr>,\n",
       " <tr> <td style=\"color:#999; text-align:center; vertical-align:middle\">50</td> <td style=\"font-weight: bold; font-size:17px; text-align:left; padding-left:10px; padding-top:5px; padding-bottom:5px\">Vijayawada</td> <td style=\" font-size:17px; text-align:left; padding-left:10px; padding-top:5px; padding-bottom:5px\">874,587</td> </tr>,\n",
       " <tr> <td style=\"color:#999; text-align:center; vertical-align:middle\">51</td> <td style=\"font-weight: bold; font-size:17px; text-align:left; padding-left:10px; padding-top:5px; padding-bottom:5px\">Mysore</td> <td style=\" font-size:17px; text-align:left; padding-left:10px; padding-top:5px; padding-bottom:5px\">868,313</td> </tr>,\n",
       " <tr> <td style=\"color:#999; text-align:center; vertical-align:middle\">52</td> <td style=\"font-weight: bold; font-size:17px; text-align:left; padding-left:10px; padding-top:5px; padding-bottom:5px\">Ranchi</td> <td style=\" font-size:17px; text-align:left; padding-left:10px; padding-top:5px; padding-bottom:5px\">846,454</td> </tr>,\n",
       " <tr> <td style=\"color:#999; text-align:center; vertical-align:middle\">53</td> <td style=\"font-weight: bold; font-size:17px; text-align:left; padding-left:10px; padding-top:5px; padding-bottom:5px\">Hubli</td> <td style=\" font-size:17px; text-align:left; padding-left:10px; padding-top:5px; padding-bottom:5px\">840,214</td> </tr>,\n",
       " <tr> <td style=\"color:#999; text-align:center; vertical-align:middle\">54</td> <td style=\"font-weight: bold; font-size:17px; text-align:left; padding-left:10px; padding-top:5px; padding-bottom:5px\">Jalandhar</td> <td style=\" font-size:17px; text-align:left; padding-left:10px; padding-top:5px; padding-bottom:5px\">785,178</td> </tr>,\n",
       " <tr> <td style=\"color:#999; text-align:center; vertical-align:middle\">55</td> <td style=\"font-weight: bold; font-size:17px; text-align:left; padding-left:10px; padding-top:5px; padding-bottom:5px\">Thiruvananthapuram</td> <td style=\" font-size:17px; text-align:left; padding-left:10px; padding-top:5px; padding-bottom:5px\">784,153</td> </tr>,\n",
       " <tr> <td style=\"color:#999; text-align:center; vertical-align:middle\">56</td> <td style=\"font-weight: bold; font-size:17px; text-align:left; padding-left:10px; padding-top:5px; padding-bottom:5px\">Salem</td> <td style=\" font-size:17px; text-align:left; padding-left:10px; padding-top:5px; padding-bottom:5px\">778,396</td> </tr>,\n",
       " <tr> <td style=\"color:#999; text-align:center; vertical-align:middle\">57</td> <td style=\"font-weight: bold; font-size:17px; text-align:left; padding-left:10px; padding-top:5px; padding-bottom:5px\">Tiruchirappalli</td> <td style=\" font-size:17px; text-align:left; padding-left:10px; padding-top:5px; padding-bottom:5px\">775,484</td> </tr>,\n",
       " <tr> <td style=\"color:#999; text-align:center; vertical-align:middle\">58</td> <td style=\"font-weight: bold; font-size:17px; text-align:left; padding-left:10px; padding-top:5px; padding-bottom:5px\">Kota</td> <td style=\" font-size:17px; text-align:left; padding-left:10px; padding-top:5px; padding-bottom:5px\">763,088</td> </tr>,\n",
       " <tr> <td style=\"color:#999; text-align:center; vertical-align:middle\">59</td> <td style=\"font-weight: bold; font-size:17px; text-align:left; padding-left:10px; padding-top:5px; padding-bottom:5px\">Bhubaneshwar</td> <td style=\" font-size:17px; text-align:left; padding-left:10px; padding-top:5px; padding-bottom:5px\">762,243</td> </tr>,\n",
       " <tr> <td style=\"color:#999; text-align:center; vertical-align:middle\">60</td> <td style=\"font-weight: bold; font-size:17px; text-align:left; padding-left:10px; padding-top:5px; padding-bottom:5px\">Aligarh</td> <td style=\" font-size:17px; text-align:left; padding-left:10px; padding-top:5px; padding-bottom:5px\">753,207</td> </tr>,\n",
       " <tr> <td style=\"color:#999; text-align:center; vertical-align:middle\">61</td> <td style=\"font-weight: bold; font-size:17px; text-align:left; padding-left:10px; padding-top:5px; padding-bottom:5px\">Bareilly</td> <td style=\" font-size:17px; text-align:left; padding-left:10px; padding-top:5px; padding-bottom:5px\">745,435</td> </tr>,\n",
       " <tr> <td style=\"color:#999; text-align:center; vertical-align:middle\">62</td> <td style=\"font-weight: bold; font-size:17px; text-align:left; padding-left:10px; padding-top:5px; padding-bottom:5px\">Moradabad</td> <td style=\" font-size:17px; text-align:left; padding-left:10px; padding-top:5px; padding-bottom:5px\">721,139</td> </tr>,\n",
       " <tr> <td style=\"color:#999; text-align:center; vertical-align:middle\">63</td> <td style=\"font-weight: bold; font-size:17px; text-align:left; padding-left:10px; padding-top:5px; padding-bottom:5px\">Bhiwandi</td> <td style=\" font-size:17px; text-align:left; padding-left:10px; padding-top:5px; padding-bottom:5px\">707,035</td> </tr>,\n",
       " <tr> <td style=\"color:#999; text-align:center; vertical-align:middle\">64</td> <td style=\"font-weight: bold; font-size:17px; text-align:left; padding-left:10px; padding-top:5px; padding-bottom:5px\">Raipur</td> <td style=\" font-size:17px; text-align:left; padding-left:10px; padding-top:5px; padding-bottom:5px\">679,995</td> </tr>,\n",
       " <tr> <td style=\"color:#999; text-align:center; vertical-align:middle\">65</td> <td style=\"font-weight: bold; font-size:17px; text-align:left; padding-left:10px; padding-top:5px; padding-bottom:5px\">Gorakhpur</td> <td style=\" font-size:17px; text-align:left; padding-left:10px; padding-top:5px; padding-bottom:5px\">674,246</td> </tr>,\n",
       " <tr> <td style=\"color:#999; text-align:center; vertical-align:middle\">66</td> <td style=\"font-weight: bold; font-size:17px; text-align:left; padding-left:10px; padding-top:5px; padding-bottom:5px\">Bhilai</td> <td style=\" font-size:17px; text-align:left; padding-left:10px; padding-top:5px; padding-bottom:5px\">625,138</td> </tr>,\n",
       " <tr> <td style=\"color:#999; text-align:center; vertical-align:middle\">67</td> <td style=\"font-weight: bold; font-size:17px; text-align:left; padding-left:10px; padding-top:5px; padding-bottom:5px\">Jamshedpur</td> <td style=\" font-size:17px; text-align:left; padding-left:10px; padding-top:5px; padding-bottom:5px\">616,338</td> </tr>,\n",
       " <tr> <td style=\"color:#999; text-align:center; vertical-align:middle\">68</td> <td style=\"font-weight: bold; font-size:17px; text-align:left; padding-left:10px; padding-top:5px; padding-bottom:5px\">Borivli</td> <td style=\" font-size:17px; text-align:left; padding-left:10px; padding-top:5px; padding-bottom:5px\">609,617</td> </tr>,\n",
       " <tr> <td style=\"color:#999; text-align:center; vertical-align:middle\">69</td> <td style=\"font-weight: bold; font-size:17px; text-align:left; padding-left:10px; padding-top:5px; padding-bottom:5px\">Cochin</td> <td style=\" font-size:17px; text-align:left; padding-left:10px; padding-top:5px; padding-bottom:5px\">604,696</td> </tr>,\n",
       " <tr> <td style=\"color:#999; text-align:center; vertical-align:middle\">70</td> <td style=\"font-weight: bold; font-size:17px; text-align:left; padding-left:10px; padding-top:5px; padding-bottom:5px\">Amravati</td> <td style=\" font-size:17px; text-align:left; padding-left:10px; padding-top:5px; padding-bottom:5px\">603,837</td> </tr>]"
      ]
     },
     "execution_count": 61,
     "metadata": {},
     "output_type": "execute_result"
    }
   ],
   "source": [
    "anda"
   ]
  },
  {
   "cell_type": "code",
   "execution_count": 64,
   "metadata": {},
   "outputs": [
    {
     "data": {
      "text/plain": [
       "['Mumbai',\n",
       " 'Delhi',\n",
       " 'Bengaluru',\n",
       " 'Kolkata',\n",
       " 'Chennai',\n",
       " 'Ahmedabad',\n",
       " 'Hyderabad',\n",
       " 'Pune',\n",
       " 'Surat',\n",
       " 'Kanpur',\n",
       " 'Jaipur',\n",
       " 'Navi Mumbai',\n",
       " 'Lucknow',\n",
       " 'Nagpur',\n",
       " 'Indore',\n",
       " 'Patna',\n",
       " 'Bhopal',\n",
       " 'Ludhiana',\n",
       " 'Tirunelveli',\n",
       " 'Agra',\n",
       " 'Vadodara',\n",
       " 'Gorakhpur',\n",
       " 'Nashik',\n",
       " 'Pimpri',\n",
       " 'Kalyan',\n",
       " 'Thane',\n",
       " 'Meerut',\n",
       " 'Nowrangapur',\n",
       " 'Faridabad',\n",
       " 'Ghaziabad',\n",
       " 'Dombivli',\n",
       " 'Rajkot',\n",
       " 'Varanasi',\n",
       " 'Amritsar',\n",
       " 'Allahabad',\n",
       " 'Visakhapatnam',\n",
       " 'Teni',\n",
       " 'Jabalpur',\n",
       " 'Haora',\n",
       " 'Aurangabad',\n",
       " 'Shivaji Nagar',\n",
       " 'Solapur',\n",
       " 'Srinagar',\n",
       " 'Chandigarh',\n",
       " 'Coimbatore',\n",
       " 'Jodhpur',\n",
       " 'Madurai',\n",
       " 'Guwahati',\n",
       " 'Gwalior',\n",
       " 'Vijayawada',\n",
       " 'Mysore',\n",
       " 'Ranchi',\n",
       " 'Hubli',\n",
       " 'Jalandhar',\n",
       " 'Thiruvananthapuram',\n",
       " 'Salem',\n",
       " 'Tiruchirappalli',\n",
       " 'Kota',\n",
       " 'Bhubaneshwar',\n",
       " 'Aligarh',\n",
       " 'Bareilly',\n",
       " 'Moradabad',\n",
       " 'Bhiwandi',\n",
       " 'Raipur',\n",
       " 'Gorakhpur',\n",
       " 'Bhilai',\n",
       " 'Jamshedpur',\n",
       " 'Borivli',\n",
       " 'Cochin',\n",
       " 'Amravati']"
      ]
     },
     "execution_count": 64,
     "metadata": {},
     "output_type": "execute_result"
    }
   ],
   "source": [
    "City_Name=[]\n",
    "for row in anda: # with the help of nested loop extracting all the rows of the cityname columns and saving it in list\n",
    "    for cell in row.find_all(\"td\",attrs={'style':'font-weight: bold; font-size:17px; text-align:left; padding-left:10px; padding-top:5px; padding-bottom:5px'}):\n",
    "        \n",
    "        sa=cell.text\n",
    "        City_Name.append(sa)\n",
    "City_Name"
   ]
  },
  {
   "cell_type": "code",
   "execution_count": 66,
   "metadata": {},
   "outputs": [
    {
     "data": {
      "text/plain": [
       "['12,691,836',\n",
       " '10,927,986',\n",
       " '5,104,047',\n",
       " '4,631,392',\n",
       " '4,328,063',\n",
       " '3,719,710',\n",
       " '3,597,816',\n",
       " '2,935,744',\n",
       " '2,894,504',\n",
       " '2,823,249',\n",
       " '2,711,758',\n",
       " '2,600,000',\n",
       " '2,472,011',\n",
       " '2,228,018',\n",
       " '1,837,041',\n",
       " '1,599,920',\n",
       " '1,599,914',\n",
       " '1,545,368',\n",
       " '1,435,844',\n",
       " '1,430,055',\n",
       " '1,409,476',\n",
       " '1,324,570',\n",
       " '1,289,497',\n",
       " '1,284,606',\n",
       " '1,262,255',\n",
       " '1,261,517',\n",
       " '1,223,184',\n",
       " '1,220,946',\n",
       " '1,220,229',\n",
       " '1,199,191',\n",
       " '1,193,000',\n",
       " '1,177,362',\n",
       " '1,164,404',\n",
       " '1,092,450',\n",
       " '1,073,438',\n",
       " '1,063,178',\n",
       " '1,034,724',\n",
       " '1,030,168',\n",
       " '1,027,672',\n",
       " '1,016,441',\n",
       " '1,000,000',\n",
       " '997,281',\n",
       " '975,857',\n",
       " '960,787',\n",
       " '959,823',\n",
       " '921,476',\n",
       " '909,908',\n",
       " '899,094',\n",
       " '882,458',\n",
       " '874,587',\n",
       " '868,313',\n",
       " '846,454',\n",
       " '840,214',\n",
       " '785,178',\n",
       " '784,153',\n",
       " '778,396',\n",
       " '775,484',\n",
       " '763,088',\n",
       " '762,243',\n",
       " '753,207',\n",
       " '745,435',\n",
       " '721,139',\n",
       " '707,035',\n",
       " '679,995',\n",
       " '674,246',\n",
       " '625,138',\n",
       " '616,338',\n",
       " '609,617',\n",
       " '604,696',\n",
       " '603,837']"
      ]
     },
     "execution_count": 66,
     "metadata": {},
     "output_type": "execute_result"
    }
   ],
   "source": [
    "City_population=[]\n",
    "for row in anda:  # with the help of nested loop extracting all the rows of the Population columns and saving it in list\n",
    "    for cell in row.find_all(\"td\",attrs={\"style\":\" font-size:17px; text-align:left; padding-left:10px; padding-top:5px; padding-bottom:5px\"}):\n",
    "        sd=cell.text\n",
    "        City_population.append(sd)\n",
    "        \n",
    "City_population"
   ]
  },
  {
   "cell_type": "code",
   "execution_count": 75,
   "metadata": {},
   "outputs": [],
   "source": [
    "india_pop=[City_Name,City_population] #apppending list to the list"
   ]
  },
  {
   "cell_type": "code",
   "execution_count": 76,
   "metadata": {},
   "outputs": [],
   "source": [
    "india_pop=pd.DataFrame(india_pop).transpose() # forming the lists into dataFrame"
   ]
  },
  {
   "cell_type": "code",
   "execution_count": 78,
   "metadata": {},
   "outputs": [],
   "source": [
    "india_pop.columns=[\"City_Name\",\"Population\"] # adding columns name to the dataframe"
   ]
  },
  {
   "cell_type": "code",
   "execution_count": 79,
   "metadata": {},
   "outputs": [
    {
     "name": "stdout",
     "output_type": "stream",
     "text": [
      "     City_Name  Population\n",
      "0       Mumbai  12,691,836\n",
      "1        Delhi  10,927,986\n",
      "2    Bengaluru   5,104,047\n",
      "3      Kolkata   4,631,392\n",
      "4      Chennai   4,328,063\n",
      "..         ...         ...\n",
      "65      Bhilai     625,138\n",
      "66  Jamshedpur     616,338\n",
      "67     Borivli     609,617\n",
      "68      Cochin     604,696\n",
      "69    Amravati     603,837\n",
      "\n",
      "[70 rows x 2 columns]\n"
     ]
    }
   ],
   "source": [
    "india_population=india_pop\n",
    "print(india_population)"
   ]
  },
  {
   "cell_type": "code",
   "execution_count": 82,
   "metadata": {},
   "outputs": [],
   "source": [
    "india_population.to_excel(\"Indian_population.xlsx\") # saving the Dataframe in excel format"
   ]
  },
  {
   "cell_type": "code",
   "execution_count": null,
   "metadata": {},
   "outputs": [],
   "source": []
  },
  {
   "cell_type": "code",
   "execution_count": null,
   "metadata": {},
   "outputs": [],
   "source": []
  },
  {
   "cell_type": "code",
   "execution_count": null,
   "metadata": {},
   "outputs": [],
   "source": []
  },
  {
   "cell_type": "code",
   "execution_count": null,
   "metadata": {},
   "outputs": [],
   "source": []
  },
  {
   "cell_type": "code",
   "execution_count": null,
   "metadata": {},
   "outputs": [],
   "source": []
  },
  {
   "cell_type": "code",
   "execution_count": null,
   "metadata": {},
   "outputs": [],
   "source": []
  },
  {
   "cell_type": "code",
   "execution_count": null,
   "metadata": {},
   "outputs": [],
   "source": []
  },
  {
   "cell_type": "code",
   "execution_count": null,
   "metadata": {},
   "outputs": [],
   "source": []
  },
  {
   "cell_type": "code",
   "execution_count": null,
   "metadata": {},
   "outputs": [],
   "source": []
  }
 ],
 "metadata": {
  "kernelspec": {
   "display_name": "Python 3",
   "language": "python",
   "name": "python3"
  },
  "language_info": {
   "codemirror_mode": {
    "name": "ipython",
    "version": 3
   },
   "file_extension": ".py",
   "mimetype": "text/x-python",
   "name": "python",
   "nbconvert_exporter": "python",
   "pygments_lexer": "ipython3",
   "version": "3.8.3"
  }
 },
 "nbformat": 4,
 "nbformat_minor": 4
}
